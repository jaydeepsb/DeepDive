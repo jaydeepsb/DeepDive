{
 "cells": [
  {
   "cell_type": "markdown",
   "metadata": {},
   "source": [
    "<font size=\"5px\"> <a href=\"https://jaydeepsb.github.io/deepdive/\">Go to Home page</a></font>"
   ]
  },
  {
   "cell_type": "markdown",
   "metadata": {},
   "source": [
    "# Motif finding problem Motif (k-mer) given NxL strings of Dna strands"
   ]
  },
  {
   "cell_type": "code",
   "execution_count": 196,
   "metadata": {},
   "outputs": [],
   "source": [
    "import numpy as np\n",
    "from itertools import permutations, product\n",
    "from collections import Counter\n",
    "from skimage.util.shape import view_as_windows\n",
    "from copy import deepcopy\n",
    "\n",
    "import pylab as plt"
   ]
  },
  {
   "cell_type": "markdown",
   "metadata": {},
   "source": [
    "Steps:\n",
    "\n",
    "* Read the list of sequences\n",
    "* For each sequence, reshape sequence into possible number of k-mers in that strings times k (nucleotides)\n",
    "* To start, select randomly 1 k-mer per sequence, by omitting 1 sequence at random. to form a motif matrix.\n",
    "* Generate nucleotide count for each place-holder in the motif (i.e. 4xk count matrix)\n",
    "* Add pseudo counts (+1) to the whole matrix if there is one or more zero counts.\n",
    "* Generate profile-most motif, i.e., probability distribution based motif\n",
    "* Match it with k-mers in the string that was omitted. Calculate entropy and pick the highest valued k-mer for the motif matrix.\n",
    "* Repeat."
   ]
  },
  {
   "cell_type": "code",
   "execution_count": 326,
   "metadata": {},
   "outputs": [],
   "source": [
    "def seq2arr(seq):\n",
    "    return np.array(list(seq)).astype(object)\n",
    "\n",
    "def hamming_distance(chaine1, chaine2):\n",
    "    return sum(c1 != c2 for c1, c2 in zip(chaine1, chaine2))\n",
    "\n",
    "def motifFinder(listofseq, k, d, iterations=3):\n",
    "    N = len(listofseq)\n",
    "    L = len(listofseq[0])\n",
    "    seq_list = list(map(lambda s:s.upper(), listofseq ))\n",
    "    long_seq = np.empty((0,k), object)\n",
    "    for i in np.arange(N):\n",
    "        #long_seq[i] = view_as_windows(seq2arr(long_seq[i]), k,1)\n",
    "        long_seq = np.vstack((long_seq, view_as_windows(seq2arr(seq_list[i]), k,1)))\n",
    "    print(long_seq.shape)\n",
    "    long_seq = long_seq.reshape((N,L-k+1,k)) #(no. of sequences x no. of k-mers x k)\n",
    "    \n",
    "    #==== Generate motif matrix ===============\n",
    "    #n_start_idxs = np.random.choice(np.arange(L-k+1), size=N-1)\n",
    "    n_start_idxs = np.random.choice(np.arange(L-k+1), size=N)\n",
    "\n",
    "    motif_matrix_full =deepcopy(long_seq[np.arange(N), n_start_idxs, :])\n",
    "    \n",
    "    skip_idx = np.random.choice( np.arange(N), size=1)[0]  \n",
    "    m=0\n",
    "    while m <= iterations:\n",
    "        #==== Skip 1 sequence at random\n",
    "        if m == 0:\n",
    "            skip_idx = np.random.choice( np.arange(N), size=1)[0]\n",
    "        else:\n",
    "            skip_idx = np.random.choice( np.setdiff1d(np.arange(N), skip_idx), size=1)[0]\n",
    "            pass\n",
    "        include_idxs =  np.setdiff1d(np.arange(N), skip_idx)\n",
    "\n",
    "        #motif_matrix = long_seq[include_idxs, n_start_idxs, :]\n",
    "        motif_matrix = motif_matrix_full[include_idxs, :]\n",
    "        print(\"Motif matrix after iteration: \", m)\n",
    "        print(motif_matrix_full.sum(axis=1).reshape((-1,1)))\n",
    "\n",
    "        bases = {\"A\":0, \"T\":1,\"G\":2,\"C\":3}\n",
    "        profile_matrix = np.zeros((4, k))\n",
    "        #==== Count nucleotides\n",
    "        for i in np.arange(k):\n",
    "            c = Counter({\"A\":0, \"T\":0,\"G\":0,\"C\":0})\n",
    "            c.update(motif_matrix[:,i])\n",
    "            profile_matrix[:,i] = [c.get(key) for key in bases.keys()]\n",
    "        #==== Add pseudo counts ===================\n",
    "        if np.any(profile_matrix == 0):\n",
    "            profile_matrix += 1\n",
    "        #==== Create Motif profile ===================\n",
    "        profile_matrix /= profile_matrix.sum(axis=0)\n",
    "\n",
    "        #==== Create profile-most Motif ===================\n",
    "        profile_most_motif = [np.random.choice(list(bases.keys()), size=1, p=profile_matrix[:,i])[0] for i in np.arange(k)]\n",
    "        #Entropy of the profile_most_motif\n",
    "        pm_entropy = 0.0\n",
    "        for j in np.arange(k):\n",
    "            h = bases.get(profile_most_motif[j])\n",
    "            pm_entropy -= profile_matrix[h,j]*np.log(profile_matrix[h,j])\n",
    "        #============================================================\n",
    "        \n",
    "        #calculate probabilities of all k-mers in the skipped sequence\n",
    "        prob_mat = np.zeros(((L-k+1),k))\n",
    "        skipped_seq = long_seq[skip_idx,:,:]\n",
    "        for i in np.arange(L-k+1):\n",
    "            kmer = long_seq[skip_idx,i,:]\n",
    "            kmer = [bases.get(key) for key in kmer]\n",
    "            for j in np.arange(k):\n",
    "                prob_mat[i,j] = profile_matrix[kmer[j],j]\n",
    "        prob_mat = np.prod(prob_mat, axis=1).flatten()\n",
    "        prob_mat /= prob_mat.sum()\n",
    "        #print(prob_mat)\n",
    "        #==== Randomly choose one kmer from above kmers, given their probabilities\n",
    "        probable_kmer_idx = np.random.choice(np.arange(L-k+1), size=1, p=prob_mat)\n",
    "        #id_mx = np.argmax(prob_mat)\n",
    "        most_matched_kmer = long_seq[skip_idx,probable_kmer_idx,:]\n",
    "        motif_matrix_full[skip_idx,:] = most_matched_kmer\n",
    "        #print(skip_idx,id_mx, ''.join(most_matched_kmer))\n",
    "        print(\"Prob.-most motif: \", ''.join(profile_most_motif), \" entropy: \", np.round(pm_entropy,4))\n",
    "        print(\"===============================================\")\n",
    "        m += 1\n",
    "    #return ''.join(profile_most_motif)"
   ]
  },
  {
   "cell_type": "code",
   "execution_count": 327,
   "metadata": {},
   "outputs": [
    {
     "name": "stdout",
     "output_type": "stream",
     "text": [
      "(35, 4)\n",
      "Motif matrix after iteration:  0\n",
      "[['ACCT']\n",
      " ['TGTC']\n",
      " ['CGTT']\n",
      " ['ACGA']\n",
      " ['TCAG']]\n",
      "Prob.-most motif:  CCCT  entropy:  1.2997\n",
      "===============================================\n",
      "Motif matrix after iteration:  1\n",
      "[['ACCT']\n",
      " ['TGTC']\n",
      " ['GGCG']\n",
      " ['ACGA']\n",
      " ['TCAG']]\n",
      "Prob.-most motif:  AGCA  entropy:  1.4288\n",
      "===============================================\n",
      "Motif matrix after iteration:  2\n",
      "[['ACCT']\n",
      " ['TGTC']\n",
      " ['GGCG']\n",
      " ['ACGA']\n",
      " ['TCAG']]\n",
      "Prob.-most motif:  GTAG  entropy:  1.213\n",
      "===============================================\n"
     ]
    }
   ],
   "source": [
    "sequence_list= [\n",
    "    \"ttACCTtaac\",\n",
    "    \"gATGTctgtc\",\n",
    "    \"ccgGCGTtag\",\n",
    "    \"cactaACGAg\",\n",
    "    \"cgtcagAGGT\",\n",
    "]\n",
    "\n",
    "k=4\n",
    "d=3\n",
    "\n",
    "motifFinder(sequence_list, k, d, iterations=2)\n"
   ]
  },
  {
   "cell_type": "code",
   "execution_count": null,
   "metadata": {},
   "outputs": [],
   "source": []
  },
  {
   "cell_type": "code",
   "execution_count": null,
   "metadata": {},
   "outputs": [],
   "source": []
  },
  {
   "cell_type": "code",
   "execution_count": null,
   "metadata": {},
   "outputs": [],
   "source": []
  }
 ],
 "metadata": {
  "kernelspec": {
   "display_name": "Python 3",
   "language": "python",
   "name": "python3"
  },
  "language_info": {
   "codemirror_mode": {
    "name": "ipython",
    "version": 3
   },
   "file_extension": ".py",
   "mimetype": "text/x-python",
   "name": "python",
   "nbconvert_exporter": "python",
   "pygments_lexer": "ipython3",
   "version": "3.7.6"
  },
  "toc": {
   "base_numbering": 1,
   "nav_menu": {},
   "number_sections": true,
   "sideBar": true,
   "skip_h1_title": false,
   "title_cell": "Table of Contents",
   "title_sidebar": "Contents",
   "toc_cell": false,
   "toc_position": {},
   "toc_section_display": true,
   "toc_window_display": true
  }
 },
 "nbformat": 4,
 "nbformat_minor": 4
}
